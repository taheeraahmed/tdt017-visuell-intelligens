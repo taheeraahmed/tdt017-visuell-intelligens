{
 "cells": [
  {
   "cell_type": "code",
   "execution_count": 1,
   "metadata": {},
   "outputs": [
    {
     "name": "stdout",
     "output_type": "stream",
     "text": [
      "File cleaned and saved as 'baseline-unetr.txt'\n"
     ]
    }
   ],
   "source": [
    "# Celle 1\n",
    "input_file_name = '/cluster/home/taheeraa/code/parse-data/data/baseline-unetr_spleen-20231125-145609.out'  # replace with your input file name\n",
    "output_file_name = 'baseline-unetr.txt'  # Output file is now a CSV\n",
    "\n",
    "def is_irrelevant_line(line):\n",
    "    # Check if the line starts with specific keywords or consists only of underscores/spaces\n",
    "    stripped_line = line.strip()\n",
    "    return (stripped_line.startswith('[INFO]') or \n",
    "            stripped_line.startswith('|') or \n",
    "            stripped_line.startswith('Epoch') or \n",
    "            stripped_line.startswith('█') or \n",
    "            stripped_line.startswith('+') or \n",
    "            stripped_line.startswith('-') or \n",
    "            stripped_line.startswith('W') or \n",
    "            stripped_line.startswith('T') or \n",
    "            set(stripped_line) <= {'_', ' '})\n",
    "\n",
    "with open(input_file_name, 'r') as input_file, open(output_file_name, 'w') as output_file:\n",
    "    for line in input_file:\n",
    "        if not is_irrelevant_line(line):\n",
    "            output_file.write(line)  # Write the original line, preserving its newline character\n",
    "\n",
    "print(f\"File cleaned and saved as '{output_file_name}'\")\n"
   ]
  },
  {
   "cell_type": "code",
   "execution_count": null,
   "metadata": {},
   "outputs": [],
   "source": [
    "# Celle 2\n",
    "import re\n",
    "import os\n",
    "\n",
    "def convert_to_csv(input_file_path, output_file_path):\n",
    "    with open(input_file_path, 'r') as file:\n",
    "        lines = file.readlines()\n",
    "\n",
    "    # Process each line\n",
    "    csv_lines = []\n",
    "    for line in lines:\n",
    "        # Replace multiple spaces with a single comma\n",
    "        csv_line = re.sub(r'\\s{2,}', ',', line.strip())\n",
    "        csv_lines.append(csv_line)\n",
    "\n",
    "    # Write the CSV data to a new file\n",
    "    with open(output_file_path, 'w') as file:\n",
    "        file.write('\\n'.join(csv_lines))\n",
    "\n",
    "    # Delete the original file\n",
    "    os.remove(input_file_path)\n",
    "\n",
    "# Usage\n",
    "input_file_path = 'baseline-unetr.txt'  # Replace with your text file path\n",
    "output_file_path = 'baseline-unetr.csv'  # The output file path\n",
    "\n",
    "convert_to_csv(input_file_path, output_file_path)"
   ]
  }
 ],
 "metadata": {
  "kernelspec": {
   "display_name": ".venv",
   "language": "python",
   "name": "python3"
  },
  "language_info": {
   "codemirror_mode": {
    "name": "ipython",
    "version": 3
   },
   "file_extension": ".py",
   "mimetype": "text/x-python",
   "name": "python",
   "nbconvert_exporter": "python",
   "pygments_lexer": "ipython3",
   "version": "3.6.8"
  }
 },
 "nbformat": 4,
 "nbformat_minor": 2
}
