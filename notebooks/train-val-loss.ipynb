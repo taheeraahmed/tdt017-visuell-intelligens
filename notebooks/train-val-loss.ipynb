{
 "cells": [
  {
   "cell_type": "code",
   "execution_count": 4,
   "metadata": {},
   "outputs": [],
   "source": [
    "!pip install -q -r ./../requirements.txt"
   ]
  },
  {
   "cell_type": "code",
   "execution_count": 2,
   "metadata": {},
   "outputs": [],
   "source": [
    "import pandas as pd\n",
    "import matplotlib.pyplot as plt\n",
    "\n",
    "info = [\n",
    "    {\"model_name\": \"Spleen, U-Net (baseline)\", \"dice\": 0.8680, \"fname\": \"baseline-unet\"},\n",
    "    {\"model_name\": \"Spleen, U-Net+Affine\", \"dice\": 0.9385, \"fname\": \"rand-affine\"},\n",
    "    {\"model_name\": \"Spleen, U-Net+Noise\", \"dice\": 0.8413, \"fname\": \"rand-noise\"},\n",
    "    {\"model_name\": \"Spleen, U-Net+Gamma\", \"dice\": 0.9055, \"fname\": \"rand-gamma\"},\n",
    "    {\"model_name\": \"Spleen, UNETR\", \"dice\": 0.8346, \"fname\": \"baseline-unetr\"},\n",
    "\n",
    "]\n",
    "\n",
    "for model in info:\n",
    "    model_name = model['model_name']\n",
    "    dice_score = model['dice']\n",
    "    fname = model['fname']\n",
    "\n",
    "    # Read data\n",
    "    data = pd.read_csv(f\"../csv/{fname}.csv\")\n",
    "\n",
    "    # Create plot\n",
    "    plt.figure(figsize=(10, 6))\n",
    "    plt.plot(data['epoch'], data['train_loss'], color='#660066', linestyle='-', label='Training Loss')\n",
    "    plt.plot(data['epoch'], data['valid_loss'], color='#ff00ff', linestyle='-', label='Validation Loss')\n",
    "\n",
    "    # Add titles and labels\n",
    "    plt.xlabel('Epochs')\n",
    "    plt.ylabel('Loss')\n",
    "    plt.legend(title=f'Dice: {dice_score:.4f}', loc='upper right')\n",
    "\n",
    "    plt.title(f'{model_name}')\n",
    "\n",
    "    # Save the plot\n",
    "    plt.savefig(f'../images/{fname}.jpg')\n",
    "    plt.close()\n"
   ]
  }
 ],
 "metadata": {
  "kernelspec": {
   "display_name": ".venv",
   "language": "python",
   "name": "python3"
  },
  "language_info": {
   "codemirror_mode": {
    "name": "ipython",
    "version": 3
   },
   "file_extension": ".py",
   "mimetype": "text/x-python",
   "name": "python",
   "nbconvert_exporter": "python",
   "pygments_lexer": "ipython3",
   "version": "3.6.8"
  }
 },
 "nbformat": 4,
 "nbformat_minor": 2
}
