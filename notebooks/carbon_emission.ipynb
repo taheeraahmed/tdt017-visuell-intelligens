{
 "cells": [
  {
   "cell_type": "code",
   "execution_count": 2,
   "metadata": {},
   "outputs": [],
   "source": [
    "!pip install pandas numpy matplotlib seaborn -q\n",
    "import pandas as pd\n",
    "import numpy as np \n",
    "import matplotlib.pyplot as plt\n",
    "import seaborn as sns"
   ]
  },
  {
   "cell_type": "markdown",
   "metadata": {},
   "source": [
    "# Carbon emission\n",
    "\n",
    "In order to incorporate sustainability into this project we have added a carbon trakcer. This means each time we train our models we will be able to see how much energy we have consumed for each model. The carbon tracker we have used is called `codecarbon` and it is a python package that allows us to track the carbon emissions of our code. It stores the usage for each run in a csv file and we can then use this to compare the carbon emissions of each model.\n",
    "\n",
    "Its important to take into account that these are only approximations, and that it is only used to give a pin-point as to how much energy which is consumed.  \n",
    "\n",
    "## Goal\n",
    "\n",
    "We want to look at the carbon emission vs the dice loss for each epoch. We want to see if there is a correlation between the two. We also want to see if there is a correlation between the carbon emission and the dice loss of the model. This means maybe we can make a trade off between the two. We can see if we can get a good dice loss with a low carbon emission, and if for example the 40th epoch almost has the same dice loss as the 50th epoch but with a lower carbon emission, we can use the 40th epoch model."
   ]
  },
  {
   "cell_type": "code",
   "execution_count": 3,
   "metadata": {},
   "outputs": [
    {
     "name": "stdout",
     "output_type": "stream",
     "text": [
      "timestamp             0\n",
      "project_name          0\n",
      "run_id                0\n",
      "duration              0\n",
      "emissions             0\n",
      "emissions_rate        0\n",
      "cpu_power             0\n",
      "gpu_power             0\n",
      "ram_power             0\n",
      "cpu_energy            0\n",
      "gpu_energy            0\n",
      "ram_energy            0\n",
      "energy_consumed       0\n",
      "country_name          0\n",
      "country_iso_code      0\n",
      "region                5\n",
      "cloud_provider        5\n",
      "cloud_region          5\n",
      "os                    0\n",
      "python_version        0\n",
      "codecarbon_version    0\n",
      "cpu_count             0\n",
      "cpu_model             0\n",
      "gpu_count             0\n",
      "gpu_model             0\n",
      "longitude             0\n",
      "latitude              0\n",
      "ram_total_size        0\n",
      "tracking_mode         0\n",
      "on_cloud              0\n",
      "pue                   0\n",
      "dtype: int64\n"
     ]
    },
    {
     "data": {
      "image/png": "[encoded data removed]",
      "text/plain": [
       "<Figure size 720x432 with 1 Axes>"
      ]
     },
     "metadata": {
      "needs_background": "light"
     },
     "output_type": "display_data"
    }
   ],
   "source": [
    "data = pd.read_csv('../emissions.csv')\n",
    "\n",
    "# Convert timestamp to datetime for easier plotting\n",
    "data['timestamp'] = pd.to_datetime(data['timestamp'])\n",
    "\n",
    "# You might want to ensure that the CPU usage columns are in the correct data type\n",
    "data['cpu_power'] = pd.to_numeric(data['cpu_power'], errors='coerce')\n",
    "\n",
    "# Check for missing values\n",
    "print(data.isnull().sum())\n",
    "\n",
    "# Simple Line Plot of CPU Power over Time\n",
    "plt.figure(figsize=(10, 6))\n",
    "sns.lineplot(x='timestamp', y='cpu_power', data=data)\n",
    "plt.title('CPU Power Usage Over Time')\n",
    "plt.xlabel('Timestamp')\n",
    "plt.ylabel('CPU Power')\n",
    "plt.xticks(rotation=45)\n",
    "plt.tight_layout()\n",
    "plt.show()"
   ]
  }
 ],
 "metadata": {
  "kernelspec": {
   "display_name": "Python 3 (ipykernel)",
   "language": "python",
   "name": "python3"
  },
  "language_info": {
   "codemirror_mode": {
    "name": "ipython",
    "version": 3
   },
   "file_extension": ".py",
   "mimetype": "text/x-python",
   "name": "python",
   "nbconvert_exporter": "python",
   "pygments_lexer": "ipython3",
   "version": "3.10.8"
  }
 },
 "nbformat": 4,
 "nbformat_minor": 2
}
